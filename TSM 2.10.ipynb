{
 "metadata": {
  "name": ""
 },
 "nbformat": 3,
 "nbformat_minor": 0,
 "worksheets": [
  {
   "cells": [
    {
     "cell_type": "heading",
     "level": 1,
     "metadata": {},
     "source": [
      "Problem 2.10"
     ]
    },
    {
     "cell_type": "markdown",
     "metadata": {},
     "source": [
      "Produce a table and graph for an Einstein solid of 200 oscillators, another one with 100 oscillators, and 100 units of energy. What is the most probable microstate/macrostate and what are their probabilities?"
     ]
    },
    {
     "cell_type": "code",
     "collapsed": false,
     "input": [
      "from math import factorial  #All of these I just got from my last problem\n",
      "%pylab inline\n",
      "import numpy as np\n",
      "import pandas as pd\n",
      "from pandas import Series, DataFrame, pivot_table\n",
      "from sympy import integrate, symbols, simplify\n",
      "from __future__ import division\n",
      "import math"
     ],
     "language": "python",
     "metadata": {},
     "outputs": [
      {
       "output_type": "stream",
       "stream": "stdout",
       "text": [
        "Populating the interactive namespace from numpy and matplotlib\n"
       ]
      },
      {
       "output_type": "stream",
       "stream": "stderr",
       "text": [
        "WARNING: pylab import has clobbered these variables: ['table']\n",
        "`%pylab --no-import-all` prevents importing * from pylab and numpy\n"
       ]
      }
     ],
     "prompt_number": 224
    },
    {
     "cell_type": "code",
     "collapsed": false,
     "input": [
      "Qa = np.linspace(start=0, stop=100, num=101)\n",
      "Qb = np.linspace(start=100, stop=0, num=101)\n",
      "Na = 200\n",
      "Nb = 100"
     ],
     "language": "python",
     "metadata": {},
     "outputs": [],
     "prompt_number": 225
    },
    {
     "cell_type": "code",
     "collapsed": false,
     "input": [
      "OmegaA = []  #Nick helped me with this concept\n",
      "\n",
      "for i in Qa:\n",
      "    Na = 200\n",
      "    q = [factorial(i+Na-1) / (factorial(i)*factorial(Na-1))]\n",
      "\n",
      "    OmegaA.append(q)"
     ],
     "language": "python",
     "metadata": {},
     "outputs": [],
     "prompt_number": 226
    },
    {
     "cell_type": "code",
     "collapsed": false,
     "input": [
      "OmegaB = []  \n",
      "\n",
      "for i in Qb:\n",
      "    Nb = 100\n",
      "    q = [factorial(i+Nb-1) / (factorial(i)*factorial(Nb-1))]\n",
      "\n",
      "    OmegaB.append(q)"
     ],
     "language": "python",
     "metadata": {},
     "outputs": [],
     "prompt_number": 227
    },
    {
     "cell_type": "code",
     "collapsed": false,
     "input": [
      "LogOmegaT = []\n",
      "\n",
      "for i in xrange(101):  # xrange because Qa and Qb wouldn't work\n",
      "    T = np.log(OmegaA[i]) + np.log(OmegaB[i])\n",
      "    \n",
      "    LogOmegaT.append(T) "
     ],
     "language": "python",
     "metadata": {},
     "outputs": [],
     "prompt_number": 228
    },
    {
     "cell_type": "code",
     "collapsed": false,
     "input": [
      "table = {'Qa' : Series(Qa),  \n",
      "         'Omega a' : Series(OmegaA),\n",
      "         'Qb' : Series(Qb),\n",
      "         'Omega b' : Series(OmegaB),\n",
      "         'Log Omega Total' : Series(LogOmegaT)}\n",
      "T = DataFrame(table)\n",
      "print T.to_string()   #got this little trick somewhere in the internet, can't find exactly where."
     ],
     "language": "python",
     "metadata": {},
     "outputs": [
      {
       "output_type": "stream",
       "stream": "stdout",
       "text": [
        "     Log Omega Total              Omega a              Omega b   Qa   Qb\n",
        "0    [135.060088901]                [1.0]  [4.52742573281e+58]    0  100\n",
        "1    [139.670271629]              [200.0]  [2.27508830794e+58]    1   99\n",
        "2    [143.587282175]            [20100.0]  [1.13754415397e+58]    2   98\n",
        "3    [147.098701334]          [1353400.0]  [5.65884909082e+57]    3   97\n",
        "4    [150.322209271]         [68685050.0]  [2.80055286638e+57]    4   96\n",
        "5    [153.322239986]       [2802350040.0]  [1.37873371883e+57]    5   95\n",
        "6    [156.139509228]      [95746959700.0]  [6.75153109737e+56]    6   94\n",
        "7    [158.802079841]   [2.8176962426e+12]  [3.28831048266e+56]    7   93\n",
        "8    [161.330461214]  [7.29078902773e+13]  [1.59277539004e+56]    8   92\n",
        "9    [163.740289865]  [1.68498235307e+15]  [7.67200711431e+55]    9   91\n",
        "10   [166.043874459]  [3.52161311793e+16]  [3.67448761791e+55]   10   90\n",
        "11   [168.251149372]  [6.72307958877e+17]  [1.74975600853e+55]   11   89\n",
        "12   [170.370295262]  [1.18214149436e+19]  [8.28341940207e+54]   12   88\n",
        "13   [172.408160377]  [1.92779997542e+20]  [3.89807971862e+54]   13   87\n",
        "14   [174.370556658]   [2.9330099626e+21]  [1.82329535226e+54]   14   86\n",
        "15   [176.262473943]  [4.18442754664e+22]  [8.47585947536e+53]   15   85\n",
        "16   [178.088238748]  [5.62282451579e+23]  [3.91547856199e+53]   16   84\n",
        "17   [179.851634458]  [7.14429467889e+24]  [1.79726884813e+53]   17   83\n",
        "18   [181.555993974]  [8.61284414066e+25]  [8.19633595574e+52]   18   82\n",
        "19   [183.204272274]  [9.88210538244e+26]  [3.71325717332e+52]   19   81\n",
        "20   [184.799104034]  [1.08209053938e+28]  [1.67096572799e+52]   20   80\n",
        "21   [186.342849971]   [1.1336186603e+29]   [7.4680032536e+51]   21   79\n",
        "22   [187.837634522]  [1.13877147239e+30]  [3.31445088222e+51]   22   78\n",
        "23   [189.285376782]  [1.09916202987e+31]  [1.46060547352e+51]   23   77\n",
        "24    [190.68781615]  [1.02130471943e+32]  [6.39014894665e+50]   24   76\n",
        "25   [192.046533743]  [9.15089028605e+32]  [2.77515039969e+50]   25   75\n",
        "26   [193.362970421]  [7.91903967062e+33]  [1.19618551711e+50]   26   74\n",
        "27   [194.638442053]  [6.62852950207e+34]  [5.11663169167e+49]   27   73\n",
        "28   [195.874152525]  [5.37384356061e+35]  [2.17159368309e+49]   28   72\n",
        "29   [197.071204887]  [4.22495286834e+36]  [9.14355234986e+48]   29   71\n",
        "30   [198.230610948]  [3.22504735617e+37]  [3.81877774612e+48]   30   70\n",
        "31    [199.35329958]  [2.39277707071e+38]  [1.58174226171e+48]   31   69\n",
        "32   [200.440123913]  [1.72728594792e+39]  [6.49644143201e+47]   32   68\n",
        "33   [201.491867616]  [1.21433436338e+40]  [2.64525758908e+47]   33   67\n",
        "34   [202.509250376]  [8.32176196083e+40]  [1.06766420764e+47]   34   66\n",
        "35   [203.492932698]  [5.56369228238e+41]  [4.27065683056e+46]   35   65\n",
        "36   [204.443520116]  [3.63185468433e+42]  [1.69263837797e+46]   36   64\n",
        "37    [205.36156689]   [2.3165343392e+43]  [6.64594209754e+45]   37   63\n",
        "38   [206.247579263]   [1.4447858905e+44]  [2.58453303793e+45]   38   62\n",
        "39   [207.102018311]  [8.81689851125e+44]  [9.95286014607e+44]   39   61\n",
        "40   [207.925302457]  [5.26809686047e+45]  [3.79452793069e+44]   40   60\n",
        "41   [208.717809674]  [3.08376401589e+46]  [1.43189733234e+44]   41   59\n",
        "42     [209.4798794]   [1.7694931615e+47]   [5.3469583929e+43]   42   58\n",
        "43   [210.211814216]  [9.95854290889e+47]  [1.97530946999e+43]   43   57\n",
        "44   [210.913881286]  [5.49983165195e+48]  [7.21747690957e+42]   44   56\n",
        "45   [211.586313595]  [2.98213094017e+49]  [2.60760456088e+42]   45   55\n",
        "46   [212.229310992]  [1.58830887031e+50]  [9.31287343171e+41]   46   54\n",
        "47   [212.843041051]   [8.3132762148e+50]  [3.28689650531e+41]   47   53\n",
        "48    [213.42763977]  [4.27787338553e+51]  [1.14608891304e+41]   48   52\n",
        "49     [213.9832121]  [2.16512775431e+52]  [3.94679625681e+40]   49   51\n",
        "50   [214.509832329]  [1.07823362165e+53]  [1.34191072732e+40]   50   50\n",
        "51   [215.007544314]  [5.28545892964e+53]  [4.50305613193e+39]   51   49\n",
        "52   [215.476361559]  [2.55125036796e+54]  [1.49087669233e+39]   52   48\n",
        "53   [215.916267157]  [1.21304734477e+55]  [4.86816879128e+38]   53   47\n",
        "54   [216.327213579]  [5.68335144863e+55]  [1.56715022733e+38]   54   46\n",
        "55   [216.709122315]  [2.62467503264e+56]  [4.97164899704e+37]   55   45\n",
        "56    [217.06188336]  [1.19516452379e+57]  [1.55364031158e+37]   56   44\n",
        "57    [217.38535454]  [5.36775645773e+57]  [4.78043172793e+36]   57   43\n",
        "58   [217.679360672]  [2.37847139593e+58]  [1.44759552325e+36]   58   42\n",
        "59   [217.943692541]  [1.04007732229e+59]  [4.31198666499e+35]   59   41\n",
        "60   [218.178105685]  [4.48966710787e+59]  [1.26279609475e+35]   60   40\n",
        "61   [218.382318973]  [1.91362860335e+60]  [3.63394559639e+34]   61   39\n",
        "62   [218.556012956]  [8.05575912057e+60]  [1.02698462507e+34]   62   38\n",
        "63   [218.698827967]  [3.35017284062e+61]  [2.84857049289e+33]   63   37\n",
        "64   [218.810361943]  [1.37671165169e+62]  [7.74978737035e+32]   64   36\n",
        "65   [218.890167936]  [5.59156732379e+62]  [2.06660996543e+32]   65   35\n",
        "66   [218.937751282]  [2.24509900122e+63]     [5.39786185e+31]   66   34\n",
        "67   [218.952566367]  [8.91337812424e+63]  [1.37990453308e+31]   67   33\n",
        "68    [218.93401296]  [3.49981170467e+64]  [3.44976133271e+30]   68   32\n",
        "69   [218.881432015]  [1.35934715486e+65]  [8.42689791195e+29]   69   31\n",
        "70   [218.794100907]  [5.22377692366e+65]  [2.00949104054e+29]   70   30\n",
        "71   [218.671227966]  [1.98650671745e+66]  [4.67323497801e+28]   71   29\n",
        "72   [218.511946234]  [7.47699056151e+66]   [1.0587797997e+28]   72   28\n",
        "73   [218.315306283]  [2.78594716812e+67]  [2.33431766864e+27]   73   27\n",
        "74   [218.080267944]  [1.02778861743e+68]  [5.00210928994e+26]   74   26\n",
        "75   [217.805690737]  [3.75485441568e+68]  [1.04043873231e+26]   75   25\n",
        "76   [217.490322754]  [1.35866442672e+69]  [2.09765873449e+25]   76   24\n",
        "77   [217.132787673]  [4.87001794514e+69]  [4.09299265267e+24]   77   23\n",
        "78   [216.731569523]   [1.7294807318e+70]  [7.71629762388e+23]   78   22\n",
        "79   [216.284994692]  [6.08602080305e+70]  [1.40296320434e+23]   79   21\n",
        "80   [215.791210535]  [2.12249975506e+71]   [2.4551856076e+22]   80   20\n",
        "81   [215.248159763]  [7.33703619034e+71]  [4.12636236571e+21]   81   19\n",
        "82    [214.65354954]  [2.51427703596e+72]  [6.64414279225e+20]   82   18\n",
        "83   [214.004813826]  [8.54248342337e+72]  [1.02217581419e+20]   83   17\n",
        "84   [213.299067078]  [2.87800334383e+73]  [1.49801627942e+19]   84   16\n",
        "85   [212.533046654]  [9.61591705467e+73]  [2.08419656267e+18]   85   15\n",
        "86   [211.703040291]  [3.18667018672e+74]  [2.74236389825e+17]   86   14\n",
        "87   [210.804793494]  [1.04757203839e+75]  [3.39761898898e+16]   87   13\n",
        "88   [209.833389381]  [3.41651335249e+75]  [3.94366489793e+15]   88   12\n",
        "89    [208.78308994]  [1.10556836575e+76]  [4.26342151127e+14]   89   11\n",
        "90   [207.647121865]  [3.55010286335e+76]  [4.26342151127e+13]   90   10\n",
        "91   [206.417380492]  [1.13135146195e+77]   [3.9113958819e+12]   91    9\n",
        "92   [205.084008532]  [3.57851386333e+77]  [3.25949656825e+11]   92    8\n",
        "93   [203.634775549]   [1.1235763958e+78]      [24370067800.0]   93    7\n",
        "94    [202.05412443]  [3.50221153158e+78]       [1609344100.0]   94    6\n",
        "95   [200.321626425]  [1.08384230556e+79]         [91962520.0]   95    5\n",
        "96   [198.409300603]  [3.33055708481e+79]          [4421275.0]   96    4\n",
        "97   [196.276514452]  [1.01633494547e+80]           [171700.0]   97    3\n",
        "98   [193.858918587]  [3.08011713065e+80]             [5050.0]   98    2\n",
        "99   [191.038918888]   [9.2714636862e+80]              [100.0]   99    1\n",
        "100  [187.529022089]  [2.77216764217e+81]                [1.0]  100    0\n"
       ]
      }
     ],
     "prompt_number": 236
    },
    {
     "cell_type": "code",
     "collapsed": false,
     "input": [
      "plot(Qa, np.exp(LogOmegaT))\n",
      "plt.title('Einstein solids (Na=200, Nb=100) Multiplicities')\n",
      "plt.xlabel(\"Q$a$\")\n",
      "plt.ylabel('$\\Omega$ total (x10^95)')"
     ],
     "language": "python",
     "metadata": {},
     "outputs": [
      {
       "metadata": {},
       "output_type": "pyout",
       "prompt_number": 230,
       "text": [
        "<matplotlib.text.Text at 0xaa471d0>"
       ]
      },
      {
       "metadata": {},
       "output_type": "display_data",
       "png": "[encoded data removed]",
       "text": [
        "<matplotlib.figure.Figure at 0xade69b0>"
       ]
      }
     ],
     "prompt_number": 230
    },
    {
     "cell_type": "markdown",
     "metadata": {},
     "source": [
      "By inspection of the table, the most probable microstate has Qa = 67 and Qb = 33. It has multiplicity:"
     ]
    },
    {
     "cell_type": "code",
     "collapsed": false,
     "input": [
      "np.exp(LogOmegaT[67])"
     ],
     "language": "python",
     "metadata": {},
     "outputs": [
      {
       "metadata": {},
       "output_type": "pyout",
       "prompt_number": 231,
       "text": [
        "array([  1.22996109e+95])"
       ]
      }
     ],
     "prompt_number": 231
    },
    {
     "cell_type": "markdown",
     "metadata": {},
     "source": [
      "Total multiplicity is:"
     ]
    },
    {
     "cell_type": "code",
     "collapsed": false,
     "input": [
      "def Omega(N,q):\n",
      "    return factorial(q+N-1) / (factorial(q)*factorial(N-1))\n",
      "\n",
      "Omega(300, 100)"
     ],
     "language": "python",
     "metadata": {},
     "outputs": [
      {
       "metadata": {},
       "output_type": "pyout",
       "prompt_number": 232,
       "text": [
        "1.681391093665753e+96"
       ]
      }
     ],
     "prompt_number": 232
    },
    {
     "cell_type": "markdown",
     "metadata": {},
     "source": [
      "So the probablility is:"
     ]
    },
    {
     "cell_type": "code",
     "collapsed": false,
     "input": [
      "(np.exp(LogOmegaT[67])) / (Omega(300, 100)) * 100"
     ],
     "language": "python",
     "metadata": {},
     "outputs": [
      {
       "metadata": {},
       "output_type": "pyout",
       "prompt_number": 233,
       "text": [
        "array([ 7.31513978])"
       ]
      }
     ],
     "prompt_number": 233
    },
    {
     "cell_type": "markdown",
     "metadata": {},
     "source": [
      "Or about 7.3%."
     ]
    },
    {
     "cell_type": "markdown",
     "metadata": {},
     "source": [
      "The least probable microstate has multiplicity:"
     ]
    },
    {
     "cell_type": "code",
     "collapsed": false,
     "input": [
      "np.exp(LogOmegaT[0])"
     ],
     "language": "python",
     "metadata": {},
     "outputs": [
      {
       "metadata": {},
       "output_type": "pyout",
       "prompt_number": 234,
       "text": [
        "array([  4.52742573e+58])"
       ]
      }
     ],
     "prompt_number": 234
    },
    {
     "cell_type": "markdown",
     "metadata": {},
     "source": [
      "So it's probablility is:"
     ]
    },
    {
     "cell_type": "code",
     "collapsed": false,
     "input": [
      "np.exp(LogOmegaT[0]) / (Omega(300, 100)) * 100"
     ],
     "language": "python",
     "metadata": {},
     "outputs": [
      {
       "metadata": {},
       "output_type": "pyout",
       "prompt_number": 235,
       "text": [
        "array([  2.69266666e-36])"
       ]
      }
     ],
     "prompt_number": 235
    },
    {
     "cell_type": "markdown",
     "metadata": {},
     "source": [
      "Very very small, so much so that it will never happen"
     ]
    },
    {
     "cell_type": "code",
     "collapsed": false,
     "input": [],
     "language": "python",
     "metadata": {},
     "outputs": []
    }
   ],
   "metadata": {}
  }
 ]
}