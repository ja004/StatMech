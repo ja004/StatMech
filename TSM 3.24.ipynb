{
 "metadata": {
  "name": ""
 },
 "nbformat": 3,
 "nbformat_minor": 0,
 "worksheets": [
  {
   "cells": [
    {
     "cell_type": "heading",
     "level": 3,
     "metadata": {},
     "source": [
      "Problem 3.24"
     ]
    },
    {
     "cell_type": "code",
     "collapsed": false,
     "input": [
      "from math import factorial  #All of these I just got from 2.10\n",
      "%pylab inline\n",
      "import numpy as np\n",
      "import pandas as pd\n",
      "from pandas import Series, DataFrame, pivot_table\n",
      "from sympy import integrate, symbols, simplify\n",
      "from __future__ import division\n",
      "import math"
     ],
     "language": "python",
     "metadata": {},
     "outputs": [
      {
       "output_type": "stream",
       "stream": "stdout",
       "text": [
        "Populating the interactive namespace from numpy and matplotlib\n"
       ]
      }
     ],
     "prompt_number": 7
    },
    {
     "cell_type": "code",
     "collapsed": false,
     "input": [
      "N = 50\n",
      "q = xrange(101)\n",
      "Energy = xrange(101)  #Defining my Energies\n",
      "\n",
      "O = []  \n",
      "\n",
      "for i in xrange(101):\n",
      "    N = 50\n",
      "    r = [factorial(i+N-1) / (factorial(i)*factorial(N-1))]\n",
      "\n",
      "    O.append(r)\n",
      "    \n",
      "Omega = O       #Definfing the multiplicities\n",
      "\n",
      "\n",
      "S = []\n",
      "\n",
      "for i in xrange(101):\n",
      "    r = np.log(Omega[i])\n",
      "    \n",
      "    S.append(r)\n",
      "    \n",
      "Entropy = S    #Defining the Entropy\n",
      "\n",
      "k = []\n",
      "\n",
      "for i in xrange(99):\n",
      "    r = (Energy[i] - Energy[i+2])/(Entropy[i] - Entropy[i+2]) #Finding the derivative of energy with respect to entropy\n",
      "    k.append(r)\n",
      "\n",
      "k.insert(0, 0)    #The list needs 0 on the first place, since there is no change to take a derivitive of\n",
      "\n",
      "Temperature = k     #Temperature is now the change in energy over the change in entropy\n",
      "    \n",
      "g = []\n",
      "\n",
      "for i in xrange(98):\n",
      "    r = np.abs(Energy[i] - Energy[i+2])/np.abs(Temperature[i] - Temperature[i+2])\n",
      "    g.append(r)\n",
      "    \n",
      "g.insert(0, 0)\n",
      "g.insert(100, 48.4)   #Have to do this in order to graph an actual function\n",
      "\n",
      "Heat_Capacity = g    #Heat Capacity is found the same way as Temperature"
     ],
     "language": "python",
     "metadata": {},
     "outputs": [],
     "prompt_number": 193
    },
    {
     "cell_type": "code",
     "collapsed": false,
     "input": [
      "table = {'q' : Series(Energy),  \n",
      "         'Multiplicity' : Series(Omega),\n",
      "         'Entropy' : Series(Entropy),\n",
      "         'Temperature' : Series(Temperature),\n",
      "         'Heat_Capacity' : Series(Heat_Capacity)}\n",
      "T = DataFrame(table)\n",
      "print T.to_string()"
     ],
     "language": "python",
     "metadata": {},
     "outputs": [
      {
       "output_type": "stream",
       "stream": "stdout",
       "text": [
        "             Entropy    Heat_Capacity         Multiplicity       Temperature    q\n",
        "0              [0.0]                0                [1.0]                 0    0\n",
        "1    [3.91202300543]  [6.09130988208]               [50.0]  [0.279692840187]    1\n",
        "2    [7.15070145759]  [22.6803191521]             [1275.0]  [0.328336603903]    2\n",
        "3    [10.0033328875]  [26.8091762533]            [22100.0]  [0.367875020807]    3\n",
        "4    [12.5873304399]  [29.6870952416]           [292825.0]  [0.402937926267]    4\n",
        "5    [14.9668765741]  [31.8886900618]          [3162510.0]  [0.435244360371]    5\n",
        "6    [17.1824502901]  [33.6521688275]         [28989675.0]   [0.46565608735]    6\n",
        "7    [19.2618918318]  [35.1062329398]        [231917400.0]    [0.4946758939]    7\n",
        "8    [21.2255015579]  [36.3300074789]       [1652411475.0]  [0.522626027799]    8\n",
        "9    [23.0887199911]  [37.3761012149]      [10648873950.0]   [0.54972680467]    9\n",
        "10    [24.863672342]  [38.2814087108]      [62828356305.0]  [0.576136156866]   10\n",
        "11   [26.5601216315]  [39.0728347041]    [3.427001253e+11]  [0.601971486027]   11\n",
        "12   [28.1860888458]  [39.7705978589]  [1.74205897028e+12]  [0.627322614545]   12\n",
        "13   [29.7482738734]  [40.3902613079]  [8.30828124285e+12]  [0.652259892732]   13\n",
        "14   [31.2523512702]  [40.9440427254]  [3.73872655928e+13]  [0.676839501419]   14\n",
        "15   [32.7031841525]  [41.4416929394]  [1.59518999863e+14]  [0.701107047699]   15\n",
        "16   [34.1049827001]  [41.8911041624]  [6.48045936942e+14]  [0.725100078103]   16\n",
        "17   [35.4614240981]  [42.2987423568]  [2.51594304931e+15]  [0.748849880933]   17\n",
        "18   [36.7757449596]  [42.6699615883]  [9.36489912797e+15]  [0.772382807767]   18\n",
        "19   [38.0508136856]  [43.0092370584]  [3.35164810896e+16]  [0.795721261303]   19\n",
        "20   [39.2891879166]  [43.3203408052]  [1.15631859759e+17]   [0.81888444641]   20\n",
        "21    [40.493160721]  [43.6064761658]   [3.8543953253e+17]  [0.841888949803]   21\n",
        "22   [41.6647981446]   [43.870382054]  [1.24391849135e+18]  [0.864749193481]   22\n",
        "23   [42.8059700477]  [44.1144147919]  [3.89400571204e+18]  [0.887477793719]   23\n",
        "24   [43.9183756585]  [44.3406130187]  [1.18442673741e+19]  [0.910085848392]   24\n",
        "25   [45.0035649269]  [44.5507496754]  [3.50590314274e+19]  [0.932583169217]   25\n",
        "26   [46.0629565024]  [44.7463740097]  [1.01131821425e+20]  [0.954978471177]   26\n",
        "27   [47.0978529767]  [44.9288457896]  [2.84667349197e+20]  [0.977279528291]   27\n",
        "28   [48.1094538883]   [45.099363381]  [7.82835210292e+20]  [0.999493302682]   28\n",
        "29    [49.098866885]  [45.2589869459]  [2.10555677251e+21]   [1.02162605228]   29\n",
        "30   [50.0671173558]  [45.4086577326]  [5.54463283428e+21]   [1.04368342126]   30\n",
        "31    [51.015156786]  [45.5492142099]  [1.43087298949e+22]   [1.06567051648]   31\n",
        "32   [51.9438700379]  [45.6814056364]  [3.62189725465e+22]   [1.08759197237]   32\n",
        "33   [52.8540817237]  [45.8059035319]  [8.99986590549e+22]   [1.10945200639]   33\n",
        "34   [53.7465618069]    [45.92331142]  [2.19702608869e+23]   [1.13125446663]   34\n",
        "35   [54.6220305442]  [46.0341731425]  [5.27286261286e+23]   [1.15300287279]   35\n",
        "36   [55.4811628623]  [46.1389799824]  [1.24498145026e+24]   [1.17470045172]   36\n",
        "37   [56.3245922459]   [46.238176793]  [2.89374066817e+24]    [1.1963501683]   37\n",
        "38   [57.1529142048]    [46.33216729]   [6.6251431087e+24]   [1.21795475236]   38\n",
        "39   [57.9666893732]  [46.4213186384]  [1.49490408607e+25]   [1.23951672227]   39\n",
        "40   [58.7664462888]  [46.5059654409]   [3.3261615915e+25]    [1.2610384057]   40\n",
        "41   [59.5526838924]  [46.5864132173]   [7.3013303228e+25]   [1.28252195786]   41\n",
        "42   [60.3258737806]    [46.66294145]  [1.58195490327e+26]   [1.30396937767]   42\n",
        "43    [61.086462242]  [46.7358062557]  [3.38464770003e+26]   [1.32538252211]   43\n",
        "44   [61.8348721012]  [46.8052427372]  [7.15391445688e+26]   [1.34676311892]   44\n",
        "45   [62.5715043937]  [46.8714670586]   [1.4943732421e+27]   [1.36811277802]   45\n",
        "46   [63.2967398888]  [46.9346782814]  [3.08620560869e+27]   [1.38943300159]   46\n",
        "47   [64.0109404786]  [46.9950599917]  [6.30373911562e+27]   [1.41072519325]   47\n",
        "48   [64.7144504462]  [47.0527817476]  [1.27388061295e+28]   [1.43199066617]   48\n",
        "49   [65.4075976268]  [47.1080003681]   [2.5477612259e+28]   [1.45323065044]   49\n",
        "50   [66.0906944715]  [47.1608610836]  [5.04456722728e+28]    [1.4744462997]   50\n",
        "51   [66.7640390247]  [47.2114985653]  [9.89130828878e+28]   [1.49563869715]   51\n",
        "52    [67.427915823]  [47.2600378479]  [1.92119641763e+29]   [1.51680886096]   52\n",
        "53   [68.0825967227]   [47.306595158]  [3.69739687921e+29]   [1.53795774917]   53\n",
        "54   [68.7283416644]  [47.3512786597]  [7.05244219553e+29]   [1.55908626421]   54\n",
        "55   [69.3653993783]  [47.3941891262]  [1.33355270606e+30]   [1.58019525693]   55\n",
        "56   [69.9940080377]  [47.4354205464]  [2.50041132387e+30]   [1.60128553034]   56\n",
        "57    [70.614395864]  [47.4750606731]  [4.64988772509e+30]   [1.62235784297]   57\n",
        "58   [71.2267816879]  [47.5131915202]  [8.57824114801e+30]     [1.643412912]   58\n",
        "59   [71.8313754711]  [47.5498898131]  [1.57025431184e+31]   [1.66445141606]   59\n",
        "60   [72.4283787911]  [47.5852273975]  [2.85262866651e+31]    [1.6854739979]   60\n",
        "61   [73.0179852927]  [47.6192716127]  [5.14408448059e+31]    [1.7064812667]   61\n",
        "62    [73.600381109]    [47.65208563]  [9.20957060235e+31]   [1.72747380034]   62\n",
        "63   [74.1757452539]   [47.683728763]  [1.63725699597e+32]   [1.74845214738]   63\n",
        "64   [74.7442499893]  [47.7142567494]  [2.89078188351e+32]   [1.76941682895]   64\n",
        "65   [75.3060611678]  [47.7437220102]  [5.06998668801e+32]   [1.79036834049]   65\n",
        "66   [75.8613385541]  [47.7721738863]  [8.83406771396e+32]   [1.81130715329]   66\n",
        "67   [76.4102361258]  [47.7996588553]  [1.52948038033e+33]   [1.83223371602]   67\n",
        "68   [76.9529023554]  [47.8262207312]   [2.6316059485e+33]   [1.85314845609]   68\n",
        "69   [77.4894804753]   [47.851900847]  [4.50042756411e+33]   [1.87405178087]   69\n",
        "70   [78.0201087264]  [47.8767382235]  [7.65072685898e+33]   [1.89494407893]   70\n",
        "71   [78.5449205921]  [47.9007697241]  [1.29308059588e+34]   [1.91582572108]   71\n",
        "72   [79.0640450187]  [47.9240301981]  [2.17309377919e+34]   [1.93669706143]   72\n",
        "73   [79.5776066223]  [47.9465526121]  [3.63174576797e+34]    [1.9575584383]   73\n",
        "74   [80.0857258844]  [47.9683681726]  [6.03655039811e+34]   [1.97841017512]   74\n",
        "75   [80.5885193365]   [47.989506438]  [9.98042999154e+34]   [1.99925258125]   75\n",
        "76   [81.0860997335]  [48.0099954233]  [1.64151809071e+35]   [2.02008595277]   76\n",
        "77   [81.5785762186]  [48.0298616968]  [2.68612051208e+35]   [2.04091057314]   77\n",
        "78   [82.0660544784]  [48.0491304689]  [4.37355519274e+35]   [2.06172671394]   78\n",
        "79   [82.5486368899]  [48.0678256761]   [7.0862666414e+35]   [2.08253463544]   79\n",
        "80   [83.0264226595]  [48.0859700577]  [1.14266049593e+36]   [2.10333458723]   80\n",
        "81   [83.4995079553]  [48.1035852276]  [1.83389956136e+36]   [2.12412680874]   81\n",
        "82   [83.9679860313]  [48.1206917409]  [2.92976637242e+36]   [2.14491152979]   82\n",
        "83   [84.4319473461]  [48.1373091566]  [4.65938748385e+36]   [2.16568897104]   83\n",
        "84   [84.8914796754]  [48.1534560947]   [7.3773635161e+36]   [2.18645934447]   84\n",
        "85   [85.3466682189]  [48.1691502904]  [1.16301966018e+37]    [2.2072228538]   85\n",
        "86   [85.7975957011]  [48.1844086448]   [1.8256703968e+37]    [2.2279796949]   86\n",
        "87   [86.2443424682]  [48.1992472715]  [2.85392153983e+37]   [2.24873005616]   87\n",
        "88   [86.6869865795]  [48.2136815411]  [4.44303694269e+37]   [2.26947411884]   88\n",
        "89   [87.1256038949]  [48.2277261211]  [6.88920334934e+37]   [2.29021205745]   89\n",
        "90   [87.5602681577]  [48.2413950158]  [1.06399918395e+38]      [2.31094404]   90\n",
        "91   [87.9910510738]  [48.2547016015]  [1.63692182147e+38]   [2.33167022837]   91\n",
        "92   [88.4180223872]  [48.2676586599]  [2.50876061768e+38]   [2.35239077853]   92\n",
        "93   [88.8412499516]  [48.2802784105]  [3.83058072807e+38]   [2.37310584086]   93\n",
        "94   [89.2607997996]  [48.2925725396]  [5.82737280973e+38]   [2.39381556036]   94\n",
        "95   [89.6767362076]  [48.3045522288]  [8.83307036422e+38]   [2.41452007694]   95\n",
        "96   [90.0891217585]  [48.3162281802]   [1.3341616696e+39]   [2.43521952557]   96\n",
        "97   [90.4980174017]   [48.327610642]   [2.0081196264e+39]   [2.45591403659]   97\n",
        "98   [90.9034825098]  [48.3387094308]   [3.0121794396e+39]   [2.47660373583]   98\n",
        "99   [91.3055749335]             48.4  [4.50305613193e+39]   [2.49728874485]   99\n",
        "100  [91.7043510534]              NaN  [6.70955363658e+39]               NaN  100\n"
       ]
      }
     ],
     "prompt_number": 190
    },
    {
     "cell_type": "code",
     "collapsed": false,
     "input": [
      "plot(Entropy, Energy)\n",
      "plt.title('Entropy vs. Energy')\n",
      "plt.xlabel('Energy')\n",
      "plt.ylabel('Entropy (S/k)')"
     ],
     "language": "python",
     "metadata": {},
     "outputs": [
      {
       "metadata": {},
       "output_type": "pyout",
       "prompt_number": 191,
       "text": [
        "<matplotlib.text.Text at 0xabaf0b8>"
       ]
      },
      {
       "metadata": {},
       "output_type": "display_data",
       "png": "[encoded data removed]",
       "text": [
        "<matplotlib.figure.Figure at 0xaba1860>"
       ]
      }
     ],
     "prompt_number": 191
    },
    {
     "cell_type": "code",
     "collapsed": false,
     "input": [
      "plot(Temperature, Heat_Capacity)\n",
      "plt.title('Heat Capacity vs. Temperature')\n",
      "plt.ylabel('Heat Capacity (C/Nk)')\n",
      "plt.xlabel('Temperature (kTq/U)')"
     ],
     "language": "python",
     "metadata": {},
     "outputs": [
      {
       "metadata": {},
       "output_type": "pyout",
       "prompt_number": 192,
       "text": [
        "<matplotlib.text.Text at 0xb23bfd0>"
       ]
      },
      {
       "metadata": {},
       "output_type": "display_data",
       "png": "[encoded data removed]",
       "text": [
        "<matplotlib.figure.Figure at 0xad5ea90>"
       ]
      }
     ],
     "prompt_number": 192
    },
    {
     "cell_type": "code",
     "collapsed": false,
     "input": [],
     "language": "python",
     "metadata": {},
     "outputs": [
      {
       "metadata": {},
       "output_type": "pyout",
       "prompt_number": 166,
       "text": [
        "array([ 6.09130988])"
       ]
      }
     ],
     "prompt_number": 166
    },
    {
     "cell_type": "markdown",
     "metadata": {},
     "source": [
      "Now N = 5000"
     ]
    },
    {
     "cell_type": "code",
     "collapsed": false,
     "input": [
      "P = []                              # All of this is just copied and changed a bit from above\n",
      "\n",
      "for i in xrange(101):\n",
      "    N = 5000\n",
      "    r = [factorial(i+N-1) / (factorial(i)*factorial(N-1))]\n",
      "\n",
      "    P.append(r)\n",
      "    \n",
      "Omega2 = P \n",
      "\n",
      "T = []\n",
      "\n",
      "for i in xrange(101):\n",
      "    r = np.log(Omega2[i])\n",
      "    \n",
      "    T.append(r)\n",
      "    \n",
      "Entropy2 = T   \n",
      "\n",
      "l = []\n",
      "\n",
      "for i in xrange(99):\n",
      "    r = (Energy[i] - Energy[i+2])/(Entropy2[i] - Entropy2[i+2]) \n",
      "    l.append(r)\n",
      "\n",
      "l.insert(0, 0)    \n",
      "\n",
      "Temperature2 = l   \n",
      "    \n",
      "h = []\n",
      "\n",
      "for i in xrange(98):\n",
      "    r = np.abs(Energy[i] - Energy[i+2])/np.abs(Temperature2[i] - Temperature2[i+2])\n",
      "    h.append(r)\n",
      "    \n",
      "h.insert(0, 0)\n",
      "h.insert(100, 1575)  #Just added to make it a more realistic function near the end, just like last time\n",
      "\n",
      "Heat_Capacity2 = h"
     ],
     "language": "python",
     "metadata": {},
     "outputs": [],
     "prompt_number": 209
    },
    {
     "cell_type": "code",
     "collapsed": false,
     "input": [
      "plot(Temperature2, Heat_Capacity2)\n",
      "plt.title('Heat Capacity vs. Temperature')\n",
      "plt.ylabel('Heat Capacity (C/Nk)')\n",
      "plt.xlabel('Temperature (kTq/U)')"
     ],
     "language": "python",
     "metadata": {},
     "outputs": [
      {
       "metadata": {},
       "output_type": "pyout",
       "prompt_number": 208,
       "text": [
        "<matplotlib.text.Text at 0xb2d4198>"
       ]
      },
      {
       "metadata": {},
       "output_type": "display_data",
       "png": "[encoded data removed]",
       "text": [
        "<matplotlib.figure.Figure at 0xb2d5f28>"
       ]
      }
     ],
     "prompt_number": 208
    },
    {
     "cell_type": "markdown",
     "metadata": {},
     "source": [
      "Comparing this to Figure 1.14, It appears to be more diamond-like than aluminum or lead."
     ]
    },
    {
     "cell_type": "code",
     "collapsed": false,
     "input": [],
     "language": "python",
     "metadata": {},
     "outputs": []
    }
   ],
   "metadata": {}
  }
 ]
}