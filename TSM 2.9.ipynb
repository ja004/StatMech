{
 "metadata": {
  "name": ""
 },
 "nbformat": 3,
 "nbformat_minor": 0,
 "worksheets": [
  {
   "cells": [
    {
     "cell_type": "heading",
     "level": 1,
     "metadata": {},
     "source": [
      "Problem 2.9"
     ]
    },
    {
     "cell_type": "code",
     "collapsed": false,
     "input": [
      "%pylab inline\n",
      "import numpy as np"
     ],
     "language": "python",
     "metadata": {},
     "outputs": [
      {
       "output_type": "stream",
       "stream": "stdout",
       "text": [
        "Populating the interactive namespace from numpy and matplotlib\n"
       ]
      }
     ],
     "prompt_number": 6
    },
    {
     "cell_type": "code",
     "collapsed": false,
     "input": [
      "Qa = np.linspace(start=0, stop=6, num=7)\n"
     ],
     "language": "python",
     "metadata": {},
     "outputs": [],
     "prompt_number": 7
    },
    {
     "cell_type": "code",
     "collapsed": false,
     "input": [
      "Oa = ([1, 3, 6, 10, 15, 21, 28])"
     ],
     "language": "python",
     "metadata": {},
     "outputs": [],
     "prompt_number": 8
    },
    {
     "cell_type": "code",
     "collapsed": false,
     "input": [
      "Qb = np.linspace(6, 0, num=7)"
     ],
     "language": "python",
     "metadata": {},
     "outputs": [],
     "prompt_number": 9
    },
    {
     "cell_type": "code",
     "collapsed": false,
     "input": [
      "Ob = ([28, 21, 15, 10, 6, 3, 1])"
     ],
     "language": "python",
     "metadata": {},
     "outputs": [],
     "prompt_number": 10
    },
    {
     "cell_type": "code",
     "collapsed": false,
     "input": [
      "Ot0 = Oa[0]*Ob[0]\n",
      "Ot1 = Oa[1]*Ob[1]\n",
      "Ot2 = Oa[2]*Ob[2]\n",
      "Ot3 = Oa[3]*Ob[3]\n",
      "Ot4 = Oa[4]*Ob[4]\n",
      "Ot5 = Oa[5]*Ob[5]\n",
      "Ot6 = Oa[6]*Ob[6]"
     ],
     "language": "python",
     "metadata": {},
     "outputs": [],
     "prompt_number": 11
    },
    {
     "cell_type": "code",
     "collapsed": false,
     "input": [
      "Ot = ([Ot0, Ot1, Ot2, Ot3, Ot4, Ot5, Ot6])"
     ],
     "language": "python",
     "metadata": {},
     "outputs": [],
     "prompt_number": 12
    },
    {
     "cell_type": "code",
     "collapsed": false,
     "input": [
      "import pandas as pd\n",
      "from pandas import Series, DataFrame, pivot_table"
     ],
     "language": "python",
     "metadata": {},
     "outputs": [],
     "prompt_number": 17
    },
    {
     "cell_type": "code",
     "collapsed": false,
     "input": [
      "from sympy import integrate, symbols, simplify"
     ],
     "language": "python",
     "metadata": {},
     "outputs": [],
     "prompt_number": 23
    },
    {
     "cell_type": "code",
     "collapsed": false,
     "input": [
      "table = {'q$a$' : Series(Qa),   # the $'s are to make it look prettier and more like a subscript because I couldn't figure out how to do that\n",
      "         '$\\Omega a$' : Series(Oa),\n",
      "         'q$b$' : Series(Qb),\n",
      "         '$\\Omega b$' : Series(Ob),\n",
      "         '$\\Omega t$' : Series(Ot)}\n",
      "T = DataFrame(table)\n",
      "T\n",
      "    # Got help from http://tooblippe.github.io/insightstack-blog/2014/04/24/pandas-pivot/ "
     ],
     "language": "python",
     "metadata": {},
     "outputs": [
      {
       "html": [
        "<div style=\"max-height:1000px;max-width:1500px;overflow:auto;\">\n",
        "<table border=\"1\" class=\"dataframe\">\n",
        "  <thead>\n",
        "    <tr style=\"text-align: right;\">\n",
        "      <th></th>\n",
        "      <th>$\\Omega a$</th>\n",
        "      <th>$\\Omega b$</th>\n",
        "      <th>$\\Omega t$</th>\n",
        "      <th>q$a$</th>\n",
        "      <th>q$b$</th>\n",
        "    </tr>\n",
        "  </thead>\n",
        "  <tbody>\n",
        "    <tr>\n",
        "      <th>0</th>\n",
        "      <td>  1</td>\n",
        "      <td> 28</td>\n",
        "      <td>  28</td>\n",
        "      <td> 0</td>\n",
        "      <td> 6</td>\n",
        "    </tr>\n",
        "    <tr>\n",
        "      <th>1</th>\n",
        "      <td>  3</td>\n",
        "      <td> 21</td>\n",
        "      <td>  63</td>\n",
        "      <td> 1</td>\n",
        "      <td> 5</td>\n",
        "    </tr>\n",
        "    <tr>\n",
        "      <th>2</th>\n",
        "      <td>  6</td>\n",
        "      <td> 15</td>\n",
        "      <td>  90</td>\n",
        "      <td> 2</td>\n",
        "      <td> 4</td>\n",
        "    </tr>\n",
        "    <tr>\n",
        "      <th>3</th>\n",
        "      <td> 10</td>\n",
        "      <td> 10</td>\n",
        "      <td> 100</td>\n",
        "      <td> 3</td>\n",
        "      <td> 3</td>\n",
        "    </tr>\n",
        "    <tr>\n",
        "      <th>4</th>\n",
        "      <td> 15</td>\n",
        "      <td>  6</td>\n",
        "      <td>  90</td>\n",
        "      <td> 4</td>\n",
        "      <td> 2</td>\n",
        "    </tr>\n",
        "    <tr>\n",
        "      <th>5</th>\n",
        "      <td> 21</td>\n",
        "      <td>  3</td>\n",
        "      <td>  63</td>\n",
        "      <td> 5</td>\n",
        "      <td> 1</td>\n",
        "    </tr>\n",
        "    <tr>\n",
        "      <th>6</th>\n",
        "      <td> 28</td>\n",
        "      <td>  1</td>\n",
        "      <td>  28</td>\n",
        "      <td> 6</td>\n",
        "      <td> 0</td>\n",
        "    </tr>\n",
        "  </tbody>\n",
        "</table>\n",
        "</div>"
       ],
       "metadata": {},
       "output_type": "pyout",
       "prompt_number": 38,
       "text": [
        "   $\\Omega a$  $\\Omega b$  $\\Omega t$  q$a$  q$b$\n",
        "0           1          28          28     0     6\n",
        "1           3          21          63     1     5\n",
        "2           6          15          90     2     4\n",
        "3          10          10         100     3     3\n",
        "4          15           6          90     4     2\n",
        "5          21           3          63     5     1\n",
        "6          28           1          28     6     0"
       ]
      }
     ],
     "prompt_number": 38
    },
    {
     "cell_type": "code",
     "collapsed": false,
     "input": [
      "bar(Qa, Ot)\n",
      "plt.title('Multiplicities of two equal Einstein soldis')\n",
      "plt.xticks([0.4, 1.4, 2.4, 3.4, 4.4, 5.4, 6.4], Qa)\n",
      "plt.xlabel(\"q$a$\")\n",
      "plt.ylabel('$\\Omega$ total')"
     ],
     "language": "python",
     "metadata": {},
     "outputs": [
      {
       "metadata": {},
       "output_type": "pyout",
       "prompt_number": 76,
       "text": [
        "<matplotlib.text.Text at 0xdd3eb70>"
       ]
      },
      {
       "metadata": {},
       "output_type": "display_data",
       "png": "[encoded data removed]",
       "text": [
        "<matplotlib.figure.Figure at 0xcf3ff98>"
       ]
      }
     ],
     "prompt_number": 76
    },
    {
     "cell_type": "raw",
     "metadata": {},
     "source": [
      "Now do the same thing, but one solid has 6 oscillators and the other has 4."
     ]
    },
    {
     "cell_type": "code",
     "collapsed": false,
     "input": [
      "from math import factorial"
     ],
     "language": "python",
     "metadata": {},
     "outputs": [],
     "prompt_number": 80
    },
    {
     "cell_type": "code",
     "collapsed": false,
     "input": [
      "def Omega(N,q):\n",
      "    return factorial(q+N-1) / (factorial(q)*factorial(N-1))"
     ],
     "language": "python",
     "metadata": {},
     "outputs": [],
     "prompt_number": 90
    },
    {
     "cell_type": "code",
     "collapsed": false,
     "input": [
      "Na = 6\n",
      "Nb = 4"
     ],
     "language": "python",
     "metadata": {},
     "outputs": [],
     "prompt_number": 92
    },
    {
     "cell_type": "code",
     "collapsed": false,
     "input": [
      "OmegaA0 = Omega(Na, Qa[0])\n",
      "OmegaA1 = Omega(Na, Qa[1])\n",
      "OmegaA2 = Omega(Na, Qa[2])\n",
      "OmegaA3 = Omega(Na, Qa[3])\n",
      "OmegaA4 = Omega(Na, Qa[4])\n",
      "OmegaA5 = Omega(Na, Qa[5])\n",
      "OmegaA6 = Omega(Na, Qa[6])\n",
      "\n",
      "OmegaA = [OmegaA0, OmegaA1, OmegaA2, OmegaA3, OmegaA4, OmegaA5, OmegaA6]"
     ],
     "language": "python",
     "metadata": {},
     "outputs": [],
     "prompt_number": 103
    },
    {
     "cell_type": "code",
     "collapsed": false,
     "input": [
      "OmegaB0 = Omega(Nb, Qb[0])\n",
      "OmegaB1 = Omega(Nb, Qb[1])\n",
      "OmegaB2 = Omega(Nb, Qb[2])\n",
      "OmegaB3 = Omega(Nb, Qb[3])\n",
      "OmegaB4 = Omega(Nb, Qb[4])\n",
      "OmegaB5 = Omega(Nb, Qb[5])\n",
      "OmegaB6 = Omega(Nb, Qb[6])\n",
      "\n",
      "OmegaB = [OmegaB0, OmegaB1, OmegaB2, OmegaB3, OmegaB4, OmegaB5, OmegaB6]"
     ],
     "language": "python",
     "metadata": {},
     "outputs": [],
     "prompt_number": 104
    },
    {
     "cell_type": "code",
     "collapsed": false,
     "input": [
      "OmegaT0 = Omega(Na, Qa[0])*Omega(Nb, Qb[0])\n",
      "OmegaT1 = Omega(Na, Qa[1])*Omega(Nb, Qb[1])\n",
      "OmegaT2 = Omega(Na, Qa[2])*Omega(Nb, Qb[2])\n",
      "OmegaT3 = Omega(Na, Qa[3])*Omega(Nb, Qb[3])\n",
      "OmegaT4 = Omega(Na, Qa[4])*Omega(Nb, Qb[4])\n",
      "OmegaT5 = Omega(Na, Qa[5])*Omega(Nb, Qb[5])\n",
      "OmegaT6 = Omega(Na, Qa[6])*Omega(Nb, Qb[6])"
     ],
     "language": "python",
     "metadata": {},
     "outputs": [],
     "prompt_number": 105
    },
    {
     "cell_type": "code",
     "collapsed": false,
     "input": [
      "OmegaT = [OmegaT0, OmegaT1, OmegaT2, OmegaT3, OmegaT4, OmegaT5, OmegaT6]"
     ],
     "language": "python",
     "metadata": {},
     "outputs": [],
     "prompt_number": 106
    },
    {
     "cell_type": "code",
     "collapsed": false,
     "input": [
      "table2 = {'q$a$' : Series(Qa),   \n",
      "         '$\\Omega a$' : Series(OmegaA),\n",
      "         'q$b$' : Series(Qb),\n",
      "         '$\\Omega b$' : Series(OmegaB),\n",
      "         '$\\Omega t$' : Series(OmegaT)}\n",
      "T2 = DataFrame(table2)\n",
      "T2"
     ],
     "language": "python",
     "metadata": {},
     "outputs": [
      {
       "html": [
        "<div style=\"max-height:1000px;max-width:1500px;overflow:auto;\">\n",
        "<table border=\"1\" class=\"dataframe\">\n",
        "  <thead>\n",
        "    <tr style=\"text-align: right;\">\n",
        "      <th></th>\n",
        "      <th>$\\Omega a$</th>\n",
        "      <th>$\\Omega b$</th>\n",
        "      <th>$\\Omega t$</th>\n",
        "      <th>q$a$</th>\n",
        "      <th>q$b$</th>\n",
        "    </tr>\n",
        "  </thead>\n",
        "  <tbody>\n",
        "    <tr>\n",
        "      <th>0</th>\n",
        "      <td>   1</td>\n",
        "      <td> 84</td>\n",
        "      <td>   84</td>\n",
        "      <td> 0</td>\n",
        "      <td> 6</td>\n",
        "    </tr>\n",
        "    <tr>\n",
        "      <th>1</th>\n",
        "      <td>   6</td>\n",
        "      <td> 56</td>\n",
        "      <td>  336</td>\n",
        "      <td> 1</td>\n",
        "      <td> 5</td>\n",
        "    </tr>\n",
        "    <tr>\n",
        "      <th>2</th>\n",
        "      <td>  21</td>\n",
        "      <td> 35</td>\n",
        "      <td>  735</td>\n",
        "      <td> 2</td>\n",
        "      <td> 4</td>\n",
        "    </tr>\n",
        "    <tr>\n",
        "      <th>3</th>\n",
        "      <td>  56</td>\n",
        "      <td> 20</td>\n",
        "      <td> 1120</td>\n",
        "      <td> 3</td>\n",
        "      <td> 3</td>\n",
        "    </tr>\n",
        "    <tr>\n",
        "      <th>4</th>\n",
        "      <td> 126</td>\n",
        "      <td> 10</td>\n",
        "      <td> 1260</td>\n",
        "      <td> 4</td>\n",
        "      <td> 2</td>\n",
        "    </tr>\n",
        "    <tr>\n",
        "      <th>5</th>\n",
        "      <td> 252</td>\n",
        "      <td>  4</td>\n",
        "      <td> 1008</td>\n",
        "      <td> 5</td>\n",
        "      <td> 1</td>\n",
        "    </tr>\n",
        "    <tr>\n",
        "      <th>6</th>\n",
        "      <td> 462</td>\n",
        "      <td>  1</td>\n",
        "      <td>  462</td>\n",
        "      <td> 6</td>\n",
        "      <td> 0</td>\n",
        "    </tr>\n",
        "  </tbody>\n",
        "</table>\n",
        "</div>"
       ],
       "metadata": {},
       "output_type": "pyout",
       "prompt_number": 107,
       "text": [
        "   $\\Omega a$  $\\Omega b$  $\\Omega t$  q$a$  q$b$\n",
        "0           1          84          84     0     6\n",
        "1           6          56         336     1     5\n",
        "2          21          35         735     2     4\n",
        "3          56          20        1120     3     3\n",
        "4         126          10        1260     4     2\n",
        "5         252           4        1008     5     1\n",
        "6         462           1         462     6     0"
       ]
      }
     ],
     "prompt_number": 107
    },
    {
     "cell_type": "code",
     "collapsed": false,
     "input": [
      "bar(Qa, OmegaT)\n",
      "plt.title('Multiplicities of two Einstein solids (Na=6, Nb=4)')\n",
      "plt.xticks([0.4, 1.4, 2.4, 3.4, 4.4, 5.4, 6.4], Qa)\n",
      "plt.xlabel(\"q$a$\")\n",
      "plt.ylabel('$\\Omega$ total')"
     ],
     "language": "python",
     "metadata": {},
     "outputs": [
      {
       "metadata": {},
       "output_type": "pyout",
       "prompt_number": 108,
       "text": [
        "<matplotlib.text.Text at 0xc65cf60>"
       ]
      },
      {
       "metadata": {},
       "output_type": "display_data",
       "png": "[encoded data removed]",
       "text": [
        "<matplotlib.figure.Figure at 0xb1909b0>"
       ]
      }
     ],
     "prompt_number": 108
    },
    {
     "cell_type": "raw",
     "metadata": {},
     "source": [
      "The most probable macrostate is with 4 energy units in solid A and 2 energy units in solid B. (Qa=4, Qb=2)\n",
      "The least probable macrostate is with 0 energy units in solid A and 6 energy units in solid B. (Qa=0, Qb=6)"
     ]
    },
    {
     "cell_type": "markdown",
     "metadata": {},
     "source": [
      "All microstates is:"
     ]
    },
    {
     "cell_type": "code",
     "collapsed": false,
     "input": [
      "Omega(10, 6)"
     ],
     "language": "python",
     "metadata": {},
     "outputs": [
      {
       "metadata": {},
       "output_type": "pyout",
       "prompt_number": 109,
       "text": [
        "5005L"
       ]
      }
     ],
     "prompt_number": 109
    },
    {
     "cell_type": "markdown",
     "metadata": {},
     "source": [
      "Most probable macrostate has multiplicity:"
     ]
    },
    {
     "cell_type": "code",
     "collapsed": false,
     "input": [
      "Omega(Na, 4)*Omega(Nb, 2)"
     ],
     "language": "python",
     "metadata": {},
     "outputs": [
      {
       "metadata": {},
       "output_type": "pyout",
       "prompt_number": 111,
       "text": [
        "1260"
       ]
      }
     ],
     "prompt_number": 111
    },
    {
     "cell_type": "markdown",
     "metadata": {},
     "source": [
      "So its probability is"
     ]
    },
    {
     "cell_type": "code",
     "collapsed": false,
     "input": [
      "from __future__ import division #http://www.kevinsheppard.com/images/0/09/Python_introduction.pdf"
     ],
     "language": "python",
     "metadata": {},
     "outputs": [],
     "prompt_number": 114
    },
    {
     "cell_type": "code",
     "collapsed": false,
     "input": [
      "(1260/5005)*100"
     ],
     "language": "python",
     "metadata": {},
     "outputs": [
      {
       "metadata": {},
       "output_type": "pyout",
       "prompt_number": 116,
       "text": [
        "25.174825174825177"
       ]
      }
     ],
     "prompt_number": 116
    },
    {
     "cell_type": "markdown",
     "metadata": {},
     "source": [
      "Or about 25%"
     ]
    },
    {
     "cell_type": "markdown",
     "metadata": {},
     "source": [
      "The least likely is "
     ]
    },
    {
     "cell_type": "code",
     "collapsed": false,
     "input": [
      "Omega(Na, 0)*Omega(Nb, 6)"
     ],
     "language": "python",
     "metadata": {},
     "outputs": [
      {
       "metadata": {},
       "output_type": "pyout",
       "prompt_number": 117,
       "text": [
        "84"
       ]
      }
     ],
     "prompt_number": 117
    },
    {
     "cell_type": "code",
     "collapsed": false,
     "input": [
      "(84/5005)*100"
     ],
     "language": "python",
     "metadata": {},
     "outputs": [
      {
       "metadata": {},
       "output_type": "pyout",
       "prompt_number": 118,
       "text": [
        "1.6783216783216783"
       ]
      }
     ],
     "prompt_number": 118
    },
    {
     "cell_type": "markdown",
     "metadata": {},
     "source": [
      "Or almost 1.7%"
     ]
    },
    {
     "cell_type": "code",
     "collapsed": false,
     "input": [],
     "language": "python",
     "metadata": {},
     "outputs": []
    }
   ],
   "metadata": {}
  }
 ]
}