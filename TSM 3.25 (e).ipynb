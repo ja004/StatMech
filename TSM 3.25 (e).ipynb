{
 "metadata": {
  "name": ""
 },
 "nbformat": 3,
 "nbformat_minor": 0,
 "worksheets": [
  {
   "cells": [
    {
     "cell_type": "heading",
     "level": 1,
     "metadata": {},
     "source": [
      "Problem 3.25 part (e)"
     ]
    },
    {
     "cell_type": "code",
     "collapsed": false,
     "input": [
      "import numpy as np\n",
      "%pylab inline"
     ],
     "language": "python",
     "metadata": {},
     "outputs": [
      {
       "output_type": "stream",
       "stream": "stdout",
       "text": [
        "Populating the interactive namespace from numpy and matplotlib\n"
       ]
      }
     ],
     "prompt_number": 10
    },
    {
     "cell_type": "code",
     "collapsed": false,
     "input": [
      "t = np.linspace(start=0.001, stop=2, num=100)"
     ],
     "language": "python",
     "metadata": {},
     "outputs": [],
     "prompt_number": 11
    },
    {
     "cell_type": "code",
     "collapsed": false,
     "input": [
      "Cv = (1/t)**2*(exp(1/t))/(1-exp(1/t))**2"
     ],
     "language": "python",
     "metadata": {},
     "outputs": [],
     "prompt_number": 12
    },
    {
     "cell_type": "code",
     "collapsed": false,
     "input": [
      "plt.plot(t, Cv)\n",
      "plt.xlabel(\"Cv/Nk\")\n",
      "plt.ylabel(\"kT/e\")"
     ],
     "language": "python",
     "metadata": {},
     "outputs": [
      {
       "metadata": {},
       "output_type": "pyout",
       "prompt_number": 13,
       "text": [
        "<matplotlib.text.Text at 0x7f29908>"
       ]
      },
      {
       "metadata": {},
       "output_type": "display_data",
       "png": "[encoded data removed]",
       "text": [
        "<matplotlib.figure.Figure at 0x7e65dd8>"
       ]
      }
     ],
     "prompt_number": 13
    },
    {
     "cell_type": "raw",
     "metadata": {},
     "source": [
      "I'm really not sure what I am suppoed to be predicting, so this is a walk through of my mentality. Since we do not have a material we are working with, and the work done so far has been theory without much assumption (other than q>>N), I do not know how to compare it to lead, diamond, and aluminum found in Figure 1.14. Is this not a graph of any Einstein solid with large q and are not lead, diamond, and aluminum all Einstein solids? hmm..\n",
      "\n",
      "Estimate e.. well first, what is e? e is a constant introduced in part (b) that is equal to U/q, or internal energy per energy unit. I could get the right units by multiplying heat capacity with temperature, but e should be a constant and that will not be a constant for any of the metals shown in the figure.\n",
      "\n",
      "Aah, move on and maybe when I come back to it I'll have an answer."
     ]
    },
    {
     "cell_type": "code",
     "collapsed": false,
     "input": [],
     "language": "python",
     "metadata": {},
     "outputs": []
    }
   ],
   "metadata": {}
  }
 ]
}